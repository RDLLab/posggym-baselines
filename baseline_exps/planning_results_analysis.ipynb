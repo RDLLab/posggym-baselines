{
    "cells": [
        {
            "cell_type": "markdown",
            "metadata": {},
            "source": [
                "# Analysis of Planning Results\n",
                "\n",
                "Here we explore the performance of the different planning algorithms across the different environments.\n",
                "\n",
                "For each algorithm we will look at their mean performance (i.e. episode returns) across the different environments. Looking at both in-distribution (planning population matches the test population) and out-of-distribution (planning population does not match the test population) settings.\n",
                "\n",
                "**Note** some algorithms, namely I-NTMCP and POMCP, have no planning population. I-NTMCP and POMCP model the other agent as an I-POMDP and uniform random, respectively. Thus, we only consider the out-of-distribution setting for these algorithms, looking at their performance against the various populations (`P0` and `P1`)."
            ]
        },
        {
            "cell_type": "code",
            "execution_count": null,
            "metadata": {},
            "outputs": [],
            "source": [
                "import sys\n",
                "\n",
                "import numpy as np\n",
                "import pandas as pd\n",
                "import matplotlib.pyplot as plt\n",
                "import seaborn as sns\n",
                "\n",
                "from posggym_baselines.config import REPO_DIR\n",
                "\n",
                "sys.path.insert(0, str(REPO_DIR / \"baseline_exps\"))\n",
                "import exp_utils\n",
                "\n",
                "sns.set_theme()\n",
                "sns.set_context(\"paper\", font_scale=1.5)\n",
                "sns.set_palette(\"colorblind\")\n",
                "\n",
                "SAVE_RESULTS = False"
            ]
        },
        {
            "cell_type": "code",
            "execution_count": null,
            "metadata": {},
            "outputs": [],
            "source": [
                "ALL_ENV_DATA = exp_utils.load_all_env_data()\n",
                "for k in ALL_ENV_DATA:\n",
                "    print(k)\n",
                "\n",
                "NUM_ENVS = len(ALL_ENV_DATA)\n",
                "\n",
                "# figure parameters\n",
                "FIGSIZE = (10, 10)\n",
                "N_COLS = min(3, NUM_ENVS)\n",
                "N_ROWS = (NUM_ENVS // N_COLS) + int(NUM_ENVS % N_COLS > 0)"
            ]
        },
        {
            "cell_type": "markdown",
            "metadata": {},
            "source": [
                "## Load Planning Results"
            ]
        },
        {
            "cell_type": "code",
            "execution_count": null,
            "metadata": {},
            "outputs": [],
            "source": [
                "planning_results = []\n",
                "for env_id, env_data in ALL_ENV_DATA.items():\n",
                "    env_planning_results = pd.read_csv(env_data.planning_results_file)\n",
                "    env_planning_results[\"full_env_id\"] = env_id\n",
                "    planning_results.append(env_planning_results)\n",
                "\n",
                "planning_results_df = pd.concat(planning_results, ignore_index=True)\n",
                "planning_results_df.rename(\n",
                "    columns={\n",
                "        \"planning_pop_id\": \"Planning Population\",\n",
                "        \"test_pop_id\": \"Test Population\",\n",
                "        \"return\": \"Return\",\n",
                "    },\n",
                "    inplace=True,\n",
                ")\n",
                "\n",
                "# Add In/Out of Distribution labels\n",
                "def get_in_out_dist_label(row):\n",
                "    return row[\"Planning Population\"] == row[\"Test Population\"]\n",
                "\n",
                "planning_results_df[\"In Distribution\"] = planning_results_df.apply(\n",
                "    get_in_out_dist_label, axis=1\n",
                ")\n",
                "\n",
                "planning_results_df.sort_values(\n",
                "    by=[\"alg\", \"full_env_id\", \"Planning Population\", \"Test Population\", \"search_time_limit\"], \n",
                "    inplace=True\n",
                ")\n",
                "\n",
                "max_search_time = planning_results_df[\"search_time_limit\"].max()\n",
                "\n",
                "# Can remove this once we have all the data\n",
                "# planning_results_df = planning_results_df[planning_results_df[\"search_time_limit\"] > 0.05]\n",
                "planning_results_df = planning_results_df[\n",
                "    (planning_results_df[\"alg\"] == \"POTMMCP\") &\n",
                "    (planning_results_df[\"full_env_id\"] != \"LevelBasedForaging-v3\") &\n",
                "    (planning_results_df[\"full_env_id\"] != \"PursuitEvasion-v1_i0\")\n",
                "]\n",
                "print(planning_results_df[\"search_time_limit\"].unique())"
            ]
        },
        {
            "cell_type": "markdown",
            "metadata": {},
            "source": [
                "## Planning Algorithm Performance against Planning and Test Populations\n",
                "\n",
                "Dimensions:\n",
                "\n",
                "- Environment\n",
                "- Algorithm\n",
                "- Planning Population\n",
                "- Test Population\n",
                "- Search Time"
            ]
        },
        {
            "cell_type": "code",
            "execution_count": null,
            "metadata": {},
            "outputs": [],
            "source": [
                "plot = sns.catplot(\n",
                "    data=planning_results_df[\n",
                "        planning_results_df[\"search_time_limit\"] == max_search_time\n",
                "    ],\n",
                "    x=\"Planning Population\",\n",
                "    y=\"Return\",\n",
                "    hue=\"Test Population\",\n",
                "    col=\"alg\",\n",
                "    # col_wrap=N_COLS,\n",
                "    row=\"full_env_id\",\n",
                "    kind=\"box\",\n",
                "    sharey=True,\n",
                ")\n",
                "\n",
                "if SAVE_RESULTS:\n",
                "    plot.figure.savefig(\n",
                "        exp_utils.ENV_DATA_DIR / \"all_env_planning_max_search_results.png\"\n",
                "        bbox_inches=\"tight\"\n",
                "    )\n",
                "\n",
                "del plot"
            ]
        },
        {
            "cell_type": "markdown",
            "metadata": {},
            "source": [
                "## In vs Out of Distribution Performance by Environment\n",
                "\n",
                "Here we look at the in-distribution vs out-of-distribution performance of the different algorithms for each environment given the maximum search time.\n",
                "\n",
                "- `x-axis`: Environment\n",
                "- `y-axis`: Mean episode return\n",
                "- `hue/z-axis`: In (True) vs Out (False) of Distribution\n",
                "- `col/figures`: Algorithm"
            ]
        },
        {
            "cell_type": "code",
            "execution_count": null,
            "metadata": {},
            "outputs": [],
            "source": [
                "for kind in (\"bar\", \"violin\"):\n",
                "    plot = sns.catplot(\n",
                "        data=planning_results_df[\n",
                "            planning_results_df[\"search_time_limit\"] == max_search_time\n",
                "        ],\n",
                "        x=\"full_env_id\",\n",
                "        y=\"Return\",\n",
                "        hue=\"In Distribution\",\n",
                "        col=\"alg\",\n",
                "        # col_wrap=N_COLS,\n",
                "        # row=\"alg\",\n",
                "        kind=kind,\n",
                "        sharey=False,\n",
                "    )\n",
                "    plot.set_xticklabels(rotation=90)\n",
                "\n",
                "    if SAVE_RESULTS:\n",
                "        plot.figure.savefig(\n",
                "            osp.join(\n",
                "                exp_utils.ENV_DATA_DIR, \n",
                "                f\"planning_id_vs_ood_by_env_results_{kind}.png\"\n",
                "            ), \n",
                "            bbox_inches=\"tight\"\n",
                "        )\n",
                "\n",
                "    del plot"
            ]
        },
        {
            "cell_type": "markdown",
            "metadata": {},
            "source": [
                "## In vs Out of Distribution Performance vs Search Time\n",
                "\n",
                "Here we look at the in vs out of distribution performance of each algorithm across search budgets, averaged across environments.\n",
                "\n",
                "- `x-axis`: Search time\n",
                "- `y-axis`: Mean episode return\n",
                "- `hue/z-axis`: In (True) vs Out (False) of Distribution\n",
                "- `col/figures`: Algorithm"
            ]
        },
        {
            "cell_type": "code",
            "execution_count": null,
            "metadata": {},
            "outputs": [],
            "source": [
                "plot = sns.relplot(\n",
                "    data=planning_results_df,\n",
                "    x=\"search_time_limit\",\n",
                "    y=\"Return\",\n",
                "    hue=\"In Distribution\",\n",
                "    col=\"alg\",\n",
                "    # col_wrap=N_COLS,\n",
                "    # row=\"alg\",\n",
                "    kind=\"line\",\n",
                ")\n",
                "\n",
                "if SAVE_RESULTS:\n",
                "    plot.figure.savefig(\n",
                "        exp_utils.ENV_DATA_DIR / \"planning_id_vs_ood_by_search_time_per_alg.png\",\n",
                "        bbox_inches=\"tight\"\n",
                "    )\n",
                "\n",
                "del plot"
            ]
        },
        {
            "cell_type": "markdown",
            "metadata": {},
            "source": [
                "Here we show a similar plot except each line represents a different algorithm and each figure is In vs Out of Distribution performance.\n",
                "\n",
                "- `x-axis`: Search time\n",
                "- `y-axis`: Mean episode return\n",
                "- `hue/z-axis`: Algorithm\n",
                "- `col/figures`: In (True) vs Out (False) of Distribution"
            ]
        },
        {
            "cell_type": "code",
            "execution_count": null,
            "metadata": {},
            "outputs": [],
            "source": [
                "plot = sns.relplot(\n",
                "    data=planning_results_df,\n",
                "    x=\"search_time_limit\",\n",
                "    y=\"Return\",\n",
                "    hue=\"alg\",\n",
                "    col=\"In Distribution\",\n",
                "    # col_wrap=N_COLS,\n",
                "    # row=\"alg\",\n",
                "    kind=\"line\",\n",
                ")\n",
                "\n",
                "if SAVE_RESULTS:\n",
                "    plot.figure.savefig(\n",
                "        exp_utils.ENV_DATA_DIR / \"planning_id_vs_ood_by_search_time_alg_compare.png\", \n",
                "        bbox_inches=\"tight\"\n",
                "    )\n",
                "\n",
                "del plot"
            ]
        },
        {
            "cell_type": "markdown",
            "metadata": {},
            "source": [
                "## Search Statistics\n",
                "\n",
                "Here we look at various statistics of the search process for each algorithm.\n",
                "\n",
                "Each figure is a different statistic, and each line is a different algorithm. The hue is the environment since we expect some differences between environments based on things like average steps to terminal state. In and out of distribution results are grouped together since we expect and see no different in search statistics between in vs out of distribution.\n",
                "\n",
                "- `x-axis`: Search time\n",
                "- `y-axis`: Search Statistic Values\n",
                "- `hue/z-axis`: Algorithm\n",
                "- `col/figures`: Environment"
            ]
        },
        {
            "cell_type": "code",
            "execution_count": null,
            "metadata": {},
            "outputs": [],
            "source": [
                "for stat_key in [\n",
                "    \"update_time\",\n",
                "    \"reinvigoration_time\",\n",
                "    \"evaluation_time\",\n",
                "    \"policy_calls\",\n",
                "    \"inference_time\",\n",
                "    \"search_depth\",\n",
                "    \"num_sims\",\n",
                "    \"min_value\",\n",
                "    \"max_value\",\n",
                "]:\n",
                "\n",
                "    plot = sns.relplot(\n",
                "        data=planning_results_df,\n",
                "        x=\"search_time_limit\",\n",
                "        y=stat_key,\n",
                "        hue=\"alg\",\n",
                "        col=\"full_env_id\",\n",
                "        # col_wrap=N_COLS,\n",
                "        kind=\"line\",\n",
                "        row=\"Planning Population\",\n",
                "    )\n",
                "\n",
                "    if SAVE_RESULTS:\n",
                "        plot.figure.savefig(\n",
                "            osp.join(\n",
                "                exp_utils.ENV_DATA_DIR, \n",
                "                f\"planning_{stat_key}.png\"\n",
                "            ), \n",
                "            bbox_inches=\"tight\"\n",
                "        )\n",
                "\n",
                "    del plot"
            ]
        }
    ],
    "metadata": {
        "kernelspec": {
            "display_name": "pgbls",
            "language": "python",
            "name": "python3"
        },
        "language_info": {
            "codemirror_mode": {
                "name": "ipython",
                "version": 3
            },
            "file_extension": ".py",
            "mimetype": "text/x-python",
            "name": "python",
            "nbconvert_exporter": "python",
            "pygments_lexer": "ipython3",
            "version": "3.8.18"
        }
    },
    "nbformat": 4,
    "nbformat_minor": 2
}
