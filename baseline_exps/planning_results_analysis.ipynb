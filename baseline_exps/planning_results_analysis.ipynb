{
 "cells": [
  {
   "cell_type": "markdown",
   "metadata": {},
   "source": [
    "# Analysis of Planning Results\n",
    "\n",
    "Here we explore the performance of the different planning algorithms across the different environments.\n",
    "\n",
    "For each algorithm we will look at their mean performance (i.e. episode returns) across the different environments. Looking at both in-distribution (planning population matches the test population) and out-of-distribution (planning population does not match the test population) settings.\n",
    "\n",
    "**Note** some algorithms, namely I-NTMCP and POMCP, have no planning population. I-NTMCP and POMCP model the other agent as an I-POMDP and uniform random, respectively. Thus, we only consider the out-of-distribution setting for these algorithms, looking at their performance against the various populations (`P0` and `P1`)."
   ]
  },
  {
   "cell_type": "code",
   "execution_count": null,
   "metadata": {},
   "outputs": [],
   "source": [
    "import os\n",
    "import os.path as osp\n",
    "import yaml\n",
    "import sys\n",
    "\n",
    "import numpy as np\n",
    "import pandas as pd\n",
    "import matplotlib.pyplot as plt\n",
    "import seaborn as sns\n",
    "\n",
    "from posggym_baselines.config import REPO_DIR\n",
    "\n",
    "sys.path.insert(0, osp.join(REPO_DIR, \"baseline_exps\"))\n",
    "import exp_utils\n",
    "\n",
    "sns.set_theme()\n",
    "sns.set_context(\"paper\", font_scale=1.5)\n",
    "sns.set_palette(\"colorblind\")\n",
    "\n",
    "SAVE_RESULTS = False"
   ]
  },
  {
   "cell_type": "code",
   "execution_count": null,
   "metadata": {},
   "outputs": [],
   "source": [
    "ALL_ENV_DATA = exp_utils.load_all_env_data()\n",
    "for k in ALL_ENV_DATA:\n",
    "    print(k)\n",
    "\n",
    "NUM_ENVS = len(ALL_ENV_DATA)\n",
    "\n",
    "# figure parameters\n",
    "FIGSIZE = (10, 10)\n",
    "N_COLS = min(3, NUM_ENVS)\n",
    "N_ROWS = (NUM_ENVS // N_COLS) + int(NUM_ENVS % N_COLS > 0)"
   ]
  },
  {
   "cell_type": "markdown",
   "metadata": {},
   "source": [
    "## Planning Algorithm Performance against Planning and Test Populations\n",
    "\n",
    "Dimensions:\n",
    "\n",
    "- Environment\n",
    "- Algorithm\n",
    "- Planning Population\n",
    "- Test Population\n",
    "- Search Time"
   ]
  },
  {
   "cell_type": "code",
   "execution_count": null,
   "metadata": {},
   "outputs": [],
   "source": [
    "planning_results = []\n",
    "for env_id, env_data in ALL_ENV_DATA.items():\n",
    "    env_planning_results = pd.read_csv(env_data.planning_results_file)\n",
    "    env_planning_results[\"full_env_id\"] = env_id\n",
    "    planning_results.append(env_planning_results)\n",
    "\n",
    "planning_results_df = pd.concat(planning_results, ignore_index=True)\n",
    "planning_results_df.rename(\n",
    "    columns={\n",
    "        \"planning_pop_id\": \"Planning Population\",\n",
    "        \"test_pop_id\": \"Test Population\",\n",
    "        \"return\": \"Return\",\n",
    "    },\n",
    "    inplace=True,\n",
    ")\n",
    "planning_results_df.sort_values(\n",
    "    by=[\"alg\", \"full_env_id\", \"Planning Population\", \"Test Population\"], \n",
    "    inplace=True\n",
    ")\n",
    "\n",
    "max_search_time = planning_results_df[\"search_time_limit\"].max()\n",
    "planning_results_max_search_df = planning_results_df[\n",
    "    planning_results_df[\"search_time_limit\"] == max_search_time\n",
    "]\n",
    "\n",
    "for c in planning_results_max_search_df.columns:\n",
    "    print(c)\n",
    "\n",
    "\n",
    "planning_max_search_plot = sns.catplot(\n",
    "    data=planning_results_max_search_df,\n",
    "    x=\"Planning Population\",\n",
    "    y=\"Return\",\n",
    "    hue=\"Test Population\",\n",
    "    col=\"full_env_id\",\n",
    "    # col_wrap=N_COLS,\n",
    "    row=\"alg\",\n",
    "    kind=\"box\",\n",
    "    sharey=False,\n",
    ")\n",
    "\n",
    "if SAVE_RESULTS:\n",
    "    planning_max_search_plot.figure.savefig(\n",
    "        osp.join(\n",
    "            exp_utils.ENV_DATA_DIR, \n",
    "            \"all_env_planning_max_search_results.png\"\n",
    "        ), \n",
    "        bbox_inches=\"tight\"\n",
    "    )"
   ]
  }
 ],
 "metadata": {
  "kernelspec": {
   "display_name": "pgbls",
   "language": "python",
   "name": "python3"
  },
  "language_info": {
   "codemirror_mode": {
    "name": "ipython",
    "version": 3
   },
   "file_extension": ".py",
   "mimetype": "text/x-python",
   "name": "python",
   "nbconvert_exporter": "python",
   "pygments_lexer": "ipython3",
   "version": "3.8.18"
  }
 },
 "nbformat": 4,
 "nbformat_minor": 2
}
