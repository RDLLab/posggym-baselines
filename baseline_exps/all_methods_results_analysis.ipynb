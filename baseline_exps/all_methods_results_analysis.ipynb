{
    "cells": [
        {
            "cell_type": "markdown",
            "metadata": {},
            "source": [
                "# Analysis of all methods results\n",
                "\n",
                "Here we explore the performance of RL, Planning, and RL+Planning across the different environments.\n",
                "\n",
                "We will look at their mean performance (i.e. episode returns) across the different environments. Looking at both in-distribution (planning population matches the test population) and out-of-distribution (planning population does not match the test population) settings.\n",
                "\n",
                "**Note** each experiment run was repeated 5 times (once for each RL policy seed), so we average the results across these 5 runs."
            ]
        },
        {
            "cell_type": "code",
            "execution_count": null,
            "metadata": {},
            "outputs": [],
            "source": [
                "import sys\n",
                "\n",
                "import numpy as np\n",
                "import pandas as pd\n",
                "import matplotlib.pyplot as plt\n",
                "import seaborn as sns\n",
                "\n",
                "from posggym_baselines.config import REPO_DIR\n",
                "\n",
                "sys.path.insert(0, str(REPO_DIR / \"baseline_exps\"))\n",
                "import exp_utils\n",
                "\n",
                "sns.set_theme()\n",
                "sns.set_context(\"paper\", font_scale=1.5)\n",
                "sns.set_palette(\"colorblind\")\n",
                "\n",
                "SAVE_RESULTS = False"
            ]
        },
        {
            "cell_type": "code",
            "execution_count": null,
            "metadata": {},
            "outputs": [],
            "source": [
                "ALL_ENV_DATA = exp_utils.load_all_env_data()\n",
                "for k in ALL_ENV_DATA:\n",
                "    print(k)\n",
                "\n",
                "NUM_ENVS = len(ALL_ENV_DATA)\n",
                "\n",
                "# figure parameters\n",
                "FIGSIZE = (10, 10)\n",
                "N_COLS = min(3, NUM_ENVS)\n",
                "N_ROWS = (NUM_ENVS // N_COLS) + int(NUM_ENVS % N_COLS > 0)"
            ]
        },
        {
            "cell_type": "markdown",
            "metadata": {},
            "source": [
                "## Load Results"
            ]
        },
        {
            "cell_type": "code",
            "execution_count": null,
            "metadata": {},
            "outputs": [],
            "source": [
                "# Add In/Out of Distribution labels\n",
                "def get_in_out_dist_label(row):\n",
                "    return row[\"Planning Population\"] == row[\"Test Population\"]"
            ]
        },
        {
            "cell_type": "markdown",
            "metadata": {},
            "source": [
                "### Planning Results"
            ]
        },
        {
            "cell_type": "code",
            "execution_count": null,
            "metadata": {},
            "outputs": [],
            "source": [
                "planning_results_df = []\n",
                "for env_id, env_data in ALL_ENV_DATA.items():\n",
                "    env_planning_results = pd.read_csv(env_data.planning_results_file)\n",
                "    env_planning_results[\"full_env_id\"] = env_id\n",
                "    planning_results_df.append(env_planning_results)\n",
                "\n",
                "planning_results_df = pd.concat(planning_results_df, ignore_index=True)\n",
                "planning_results_df.rename(\n",
                "    columns={\n",
                "        \"alg\": \"Algorithm\",\n",
                "        \"planning_pop_id\": \"Planning Population\",\n",
                "        \"test_pop_id\": \"Test Population\",\n",
                "        \"return\": \"Return\",\n",
                "    },\n",
                "    inplace=True,\n",
                ")\n",
                "\n",
                "planning_results_df[\"In Distribution\"] = planning_results_df.apply(\n",
                "    get_in_out_dist_label, axis=1\n",
                ")\n",
                "\n",
                "planning_results_df.sort_values(\n",
                "    by=[\n",
                "        \"Algorithm\", \n",
                "        \"full_env_id\", \n",
                "        \"Planning Population\", \n",
                "        \"Test Population\", \n",
                "        \"search_time_limit\"\n",
                "    ], \n",
                "    inplace=True\n",
                ")\n",
                "\n",
                "max_search_time = planning_results_df[\"search_time_limit\"].max()\n",
                "\n",
                "# Can remove this once we have all the data\n",
                "# planning_results_df = planning_results_df[planning_results_df[\"search_time_limit\"] > 0.05]\n",
                "# planning_results_df = planning_results_df[\n",
                "#     (planning_results_df[\"alg\"] == \"POTMMCP\") &\n",
                "#     (planning_results_df[\"full_env_id\"] != \"LevelBasedForaging-v3\") &\n",
                "#     (planning_results_df[\"full_env_id\"] != \"PursuitEvasion-v1_i0\")\n",
                "# ]\n",
                "planning_results_df = planning_results_df[planning_results_df[\"search_time_limit\"].isin([0.05, 0.1, 0.5, 1, 5, 10, 20])]\n",
                "print(planning_results_df[\"search_time_limit\"].unique())"
            ]
        },
        {
            "cell_type": "markdown",
            "metadata": {},
            "source": [
                "### RL Results"
            ]
        },
        {
            "cell_type": "code",
            "execution_count": null,
            "metadata": {},
            "outputs": [],
            "source": [
                "br_results_df = []\n",
                "for full_env_id, env_data in ALL_ENV_DATA.items():\n",
                "    env_br_results_df = pd.read_csv(env_data.rl_br_results_file)\n",
                "    env_br_results_df[\"full_env_id\"] = full_env_id\n",
                "    br_results_df.append(env_br_results_df)\n",
                "\n",
                "br_results_df = pd.concat(br_results_df)\n",
                "br_results_df.rename(\n",
                "    columns={\n",
                "        \"train_pop\": \"Planning Population\",\n",
                "        \"eval_pop\": \"Test Population\",\n",
                "        \"mean_returns\": \"Return\",\n",
                "    },\n",
                "    inplace=True,\n",
                ")\n",
                "\n",
                "\n",
                "br_results_df[\"In Distribution\"] = br_results_df.apply(\n",
                "    get_in_out_dist_label, axis=1\n",
                ")\n",
                "br_results_df[\"Algorithm\"] = \"RL-BR\"\n",
                "\n",
                "\n",
                "br_results_df.sort_values(\n",
                "    by=[\n",
                "        \"full_env_id\", \n",
                "        \"Planning Population\", \n",
                "        \"Test Population\"\n",
                "    ], \n",
                "    inplace=True\n",
                ")"
            ]
        },
        {
            "cell_type": "markdown",
            "metadata": {},
            "source": [
                "### Combined (RL+Planning) Results"
            ]
        },
        {
            "cell_type": "code",
            "execution_count": null,
            "metadata": {},
            "outputs": [],
            "source": [
                "combined_results_df = []\n",
                "for env_id, env_data in ALL_ENV_DATA.items():\n",
                "    env_planning_results = pd.read_csv(env_data.combined_results_file)\n",
                "    env_planning_results[\"full_env_id\"] = env_id\n",
                "    combined_results_df.append(env_planning_results)\n",
                "\n",
                "combined_results_df = pd.concat(combined_results_df, ignore_index=True)\n",
                "combined_results_df.rename(\n",
                "    columns={\n",
                "        \"alg\": \"Algorithm\",\n",
                "        \"planning_pop_id\": \"Planning Population\",\n",
                "        \"test_pop_id\": \"Test Population\",\n",
                "        \"return\": \"Return\",\n",
                "    },\n",
                "    inplace=True,\n",
                ")\n",
                "\n",
                "\n",
                "combined_results_df[\"In Distribution\"] = combined_results_df.apply(\n",
                "    get_in_out_dist_label, axis=1\n",
                ")\n",
                "\n",
                "combined_results_df.sort_values(\n",
                "    by=[\n",
                "        \"Algorithm\", \n",
                "        \"full_env_id\", \n",
                "        \"Planning Population\", \n",
                "        \"Test Population\", \n",
                "        \"search_time_limit\"\n",
                "    ], \n",
                "    inplace=True\n",
                ")\n",
                "\n",
                "# combined_results_df = combined_results_df[combined_results_df[\"search_time_limit\"].isin([0.05, 0.1, 0.5, 1, 5, 10, 20])]\n",
                "print(combined_results_df[\"search_time_limit\"].unique())"
            ]
        },
        {
            "cell_type": "markdown",
            "metadata": {},
            "source": [
                "### All results"
            ]
        },
        {
            "cell_type": "code",
            "execution_count": null,
            "metadata": {},
            "outputs": [],
            "source": [
                "# Need to add search_time_limit to br_results_df\n",
                "# We duplicate the DF and set the search_time_limit to the max and min values\n",
                "# This will produce a horizontal line in the plots :)\n",
                "min_search_time = min(\n",
                "    planning_results_df[\"search_time_limit\"].min(),\n",
                "    combined_results_df[\"search_time_limit\"].min(),\n",
                ")\n",
                "max_search_time = max(\n",
                "    planning_results_df[\"search_time_limit\"].max(),\n",
                "    combined_results_df[\"search_time_limit\"].max(),\n",
                ")\n",
                "br_results_df[\"search_time_limit\"] = max_search_time\n",
                "min_br_results_df = br_results_df.copy(deep=True)\n",
                "min_br_results_df[\"search_time_limit\"] = min_search_time\n",
                "\n",
                "# combine planning, combined, and rl results together\n",
                "all_results_df = pd.concat(\n",
                "    [\n",
                "        planning_results_df, \n",
                "        combined_results_df, \n",
                "        br_results_df,\n",
                "        min_br_results_df\n",
                "    ],\n",
                ")"
            ]
        },
        {
            "cell_type": "markdown",
            "metadata": {},
            "source": [
                "## In-Distribution Performance\n",
                "\n",
                "Here we look at the in-distribution performance of all methods (planning population and test populations are the same). We look only at the performance of each algorithm given the maximum search time.\n",
                "\n",
                "Dimensions:\n",
                "\n",
                "- `y-axis`: mean episode return\n",
                "- `x-axis`: search time\n",
                "- `z-axis/hue`: algorithm"
            ]
        },
        {
            "cell_type": "code",
            "execution_count": null,
            "metadata": {},
            "outputs": [],
            "source": [
                "g = sns.relplot(\n",
                "    data=all_results_df,\n",
                "    x=\"search_time_limit\",\n",
                "    y=\"Return\",\n",
                "    hue=\"Algorithm\",\n",
                "    row=\"full_env_id\",\n",
                "    col=\"In Distribution\",\n",
                "    legend=\"full\",\n",
                "    markers=True,\n",
                "    dashes=False,\n",
                "    kind=\"line\",\n",
                "    facet_kws={\"sharey\": 'row', \"sharex\": True},\n",
                ")\n",
                "\n",
                "# plot.axes.set_title(full_env_id)\n",
                "# plot.axes.set_xlabel(\"Planning Time Limit (s)\")\n",
                "# plot.axes.set_ylabel(\"Mean Return\")\n",
                "# plot.axes.grid(True)\n",
                "# plot.figure.tight_layout()\n",
                "\n",
                "for (row_key, col_key), ax in g.axes_dict.items():\n",
                "    print(col_key, type(col_key), bool(col_key) is False)\n",
                "    col_key = \"OOD\" if bool(col_key) is False else \"In Dist.\"\n",
                "    ax.set_title(f\"{row_key} | {col_key}\")\n",
                "\n",
                "del g"
            ]
        },
        {
            "cell_type": "markdown",
            "metadata": {},
            "source": [
                "## In vs Out of Distribution Performance\n",
                "\n",
                "Here we look at the in-distribution vs out-of-distribution performance of each algorithm.\n",
                "\n",
                "- `x-axis`: Environment\n",
                "- `y-axis`: Mean episode return\n",
                "- `hue/z-axis`: In (True) vs Out (False) of Distribution\n",
                "- `col/figures`: Algorithm"
            ]
        },
        {
            "cell_type": "markdown",
            "metadata": {},
            "source": [
                "## Search Statistics\n",
                "\n",
                "Here we look at various statistics of the search process for each algorithm.\n",
                "\n",
                "Each figure is a different statistic, each line is a different environment since we expect some differences between environments based on things like average steps to terminal state. In and out of distribution results are grouped together since we expect and see no different in search statistics between in vs out of distribution.\n",
                "\n",
                "- `x-axis`: Search time\n",
                "- `y-axis`: Search Statistic Values\n",
                "- `col/figures`: Environment"
            ]
        },
        {
            "cell_type": "code",
            "execution_count": null,
            "metadata": {},
            "outputs": [],
            "source": [
                "for stat_key in [\n",
                "    \"update_time\",\n",
                "    \"reinvigoration_time\",\n",
                "    \"evaluation_time\",\n",
                "    \"policy_calls\",\n",
                "    \"inference_time\",\n",
                "    \"search_depth\",\n",
                "    \"num_sims\",\n",
                "    \"mem_usage\",\n",
                "    \"min_value\",\n",
                "    \"max_value\",\n",
                "]:\n",
                "\n",
                "    plot = sns.relplot(\n",
                "        data=all_results_df[all_results_df[\"Algorithm\"] != \"RL-BR\"],\n",
                "        x=\"search_time_limit\",\n",
                "        y=stat_key,\n",
                "        hue=\"Algorithm\",\n",
                "        # col_wrap=N_COLS,\n",
                "        col=\"Planning Population\",\n",
                "        row=\"full_env_id\",\n",
                "        kind=\"line\",\n",
                "    )\n",
                "\n",
                "    del plot"
            ]
        }
    ],
    "metadata": {
        "kernelspec": {
            "display_name": "pgbls",
            "language": "python",
            "name": "python3"
        },
        "language_info": {
            "codemirror_mode": {
                "name": "ipython",
                "version": 3
            },
            "file_extension": ".py",
            "mimetype": "text/x-python",
            "name": "python",
            "nbconvert_exporter": "python",
            "pygments_lexer": "ipython3",
            "version": "3.8.18"
        }
    },
    "nbformat": 4,
    "nbformat_minor": 2
}
